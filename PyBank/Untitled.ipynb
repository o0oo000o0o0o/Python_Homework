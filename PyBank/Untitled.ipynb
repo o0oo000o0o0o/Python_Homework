{
 "cells": [
  {
   "cell_type": "code",
   "execution_count": 17,
   "metadata": {},
   "outputs": [],
   "source": [
    "import os\n",
    "import csv\n",
    "import statistics"
   ]
  },
  {
   "cell_type": "code",
   "execution_count": 18,
   "metadata": {},
   "outputs": [
    {
     "data": {
      "text/plain": [
       "'budget_data.csv'"
      ]
     },
     "execution_count": 18,
     "metadata": {},
     "output_type": "execute_result"
    }
   ],
   "source": [
    "budget_df  = \"budget_data.csv\"\n",
    "budget_df\n"
   ]
  },
  {
   "cell_type": "code",
   "execution_count": 20,
   "metadata": {},
   "outputs": [
    {
     "name": "stdout",
     "output_type": "stream",
     "text": [
      "86\n"
     ]
    }
   ],
   "source": [
    "with open(budget_df) as csvfile:\n",
    "    csvreader = csv.reader(csvfile, delimiter=',')\n",
    "    header = next(csvreader)\n",
    "    total_months = 0\n",
    "    for row in csvreader:\n",
    "        total_months += 1\n",
    "    print(total_months)\n",
    "    "
   ]
  },
  {
   "cell_type": "code",
   "execution_count": 21,
   "metadata": {},
   "outputs": [
    {
     "name": "stdout",
     "output_type": "stream",
     "text": [
      "38382578\n"
     ]
    }
   ],
   "source": [
    "with open(budget_df) as csvfile:\n",
    "    csvreader = csv.reader(csvfile, delimiter=',')\n",
    "    header = next(csvreader)\n",
    "    total = []\n",
    "    for row in csvreader:\n",
    "        total.append(row[1])\n",
    "    total_value = 0\n",
    "    for values in total:\n",
    "        total_value += int(values)\n",
    "    print(total_value)\n",
    "    "
   ]
  },
  {
   "cell_type": "code",
   "execution_count": 23,
   "metadata": {},
   "outputs": [
    {
     "name": "stdout",
     "output_type": "stream",
     "text": [
      "Total Months: 86\n",
      "Total: 38382578\n",
      "Average Change: -2315.12\n",
      "The greatest increase in profits: 1926159\n",
      "The greatest decrease in profits: -2196167\n"
     ]
    }
   ],
   "source": [
    "def average (numbers):\n",
    "    total = 0.0\n",
    "    for number in numbers:\n",
    "        total += number\n",
    "    find_average = total/len(numbers)\n",
    "    return find_average\n",
    "        \n",
    "\n",
    "months = []\n",
    "total = []\n",
    "monthly_changes =[]\n",
    "with open(budget_df) as csvfile:\n",
    "    csvreader = csv.reader(csvfile, delimiter=\",\")\n",
    "    csv_header = next(csvfile)\n",
    "    for row in csvreader:\n",
    "        months.append(row[0])\n",
    "        total.append(row[1])\n",
    "        monthly_changes.append(int(row[1]))\n",
    "    amount_months = len(months)\n",
    "    print(f'Total Months: {amount_months}')\n",
    "    \n",
    "    total_value = 0\n",
    "    for values in total:\n",
    "        total_value += int(values)\n",
    "    print(f'Total: ${total_value}')\n",
    "\n",
    "    net_change = [j-i for i,j in zip(monthly_changes[:-1], monthly_changes[1:])]\n",
    "    print(f'Average Change: ${round(average(net_change),2)}')\n",
    "    net_change.sort(reverse=True)\n",
    "#     print(net_change)\n",
    "    print(f'The greatest increase in profits: ${net_change[0]}')\n",
    "    print(f'The greatest decrease in profits: ${net_change[84]}')"
   ]
  },
  {
   "cell_type": "code",
   "execution_count": null,
   "metadata": {},
   "outputs": [],
   "source": [
    "with open(budget_df) as csvfile:\n",
    "    csvreader = csv.reader(csvfile, delimiter=',')\n",
    "    header = next(csvreader)\n",
    "    total = []\n",
    "    for row in csvreader:\n",
    "        total.append(row[1])\n",
    "    \n"
   ]
  },
  {
   "cell_type": "code",
   "execution_count": null,
   "metadata": {},
   "outputs": [],
   "source": [
    "greatest_decrease = [\"\", 9999999999999999999]"
   ]
  },
  {
   "cell_type": "code",
   "execution_count": null,
   "metadata": {},
   "outputs": [],
   "source": [
    "total_net = 0"
   ]
  },
  {
   "cell_type": "code",
   "execution_count": null,
   "metadata": {
    "scrolled": true
   },
   "outputs": [],
   "source": [
    "\n",
    "    total = 0\n",
    "    \n",
    "    for row in csvreader:\n",
    "        total += 1   \n",
    "    print(total)"
   ]
  },
  {
   "cell_type": "code",
   "execution_count": null,
   "metadata": {},
   "outputs": [],
   "source": [
    "with open(budget_df) as csvfile:\n",
    "    csvreader = csv.reader(csvfile, delimiter=',')\n",
    "    header = next(csvreader)  \n",
    "    \n",
    "    for row in csvreader:\n",
    "        total_profit(row)\n",
    "        \n",
    "    "
   ]
  },
  {
   "cell_type": "code",
   "execution_count": null,
   "metadata": {},
   "outputs": [],
   "source": [
    "# def total_profit (row_data):\n",
    "#     total1 = 0\n",
    "#     for data in row_data:\n",
    "#         total1 += int(data[1])\n",
    "#     print(total1)"
   ]
  }
 ],
 "metadata": {
  "kernelspec": {
   "display_name": "Python 3",
   "language": "python",
   "name": "python3"
  },
  "language_info": {
   "codemirror_mode": {
    "name": "ipython",
    "version": 3
   },
   "file_extension": ".py",
   "mimetype": "text/x-python",
   "name": "python",
   "nbconvert_exporter": "python",
   "pygments_lexer": "ipython3",
   "version": "3.7.4"
  }
 },
 "nbformat": 4,
 "nbformat_minor": 2
}
